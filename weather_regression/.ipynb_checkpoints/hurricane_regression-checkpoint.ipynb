{
 "cells": [
  {
   "cell_type": "markdown",
   "metadata": {},
   "source": [
    "# Regression Analysis of Storm & Cost Data"
   ]
  },
  {
   "cell_type": "code",
   "execution_count": 67,
   "metadata": {},
   "outputs": [],
   "source": [
    "import pandas as pd\n",
    "import numpy as np\n",
    "\n",
    "from sklearn.linear_model import LinearRegression\n",
    "from sklearn.model_selection import KFold, train_test_split, GridSearchCV\n",
    "from sklearn.linear_model import LassoCV, RidgeCV\n",
    "from sklearn.pipeline import make_pipeline\n",
    "from sklearn.preprocessing import StandardScaler, PolynomialFeatures\n",
    "from sklearn.metrics import mean_squared_error\n",
    "\n",
    "import seaborn as sns\n",
    "import matplotlib.pyplot as plt\n",
    "\n",
    "%matplotlib inline"
   ]
  },
  {
   "cell_type": "code",
   "execution_count": 29,
   "metadata": {},
   "outputs": [
    {
     "name": "stdout",
     "output_type": "stream",
     "text": [
      "<class 'pandas.core.frame.DataFrame'>\n",
      "Int64Index: 728 entries, 0 to 727\n",
      "Data columns (total 23 columns):\n",
      "damage_USD        728 non-null float64\n",
      "name              728 non-null object\n",
      "stormID           728 non-null object\n",
      "areas_affected    728 non-null object\n",
      "dates_active      728 non-null object\n",
      "max_storm_cat     728 non-null int64\n",
      "deaths            728 non-null float64\n",
      "year              728 non-null object\n",
      "duration          728 non-null float64\n",
      "lat_delta         728 non-null float64\n",
      "lon_delta         728 non-null float64\n",
      "wind_v_max        728 non-null float64\n",
      "wind_v_med        728 non-null float64\n",
      "p_min             728 non-null float64\n",
      "p_med             622 non-null float64\n",
      "34kt_r_max        230 non-null float64\n",
      "34kt_r_med        230 non-null float64\n",
      "50kt_r_max        230 non-null float64\n",
      "50kt_r_med        230 non-null float64\n",
      "64kt_r_max        230 non-null float64\n",
      "64kt_r_med        230 non-null float64\n",
      "damage_imputed    728 non-null int32\n",
      "landfall          728 non-null int64\n",
      "dtypes: float64(15), int32(1), int64(2), object(5)\n",
      "memory usage: 133.7+ KB\n"
     ]
    }
   ],
   "source": [
    "path = './'\n",
    "file = 'storms_with_effect.pkl'\n",
    "\n",
    "hur_cost = pd.read_pickle(path+file)\n",
    "\n",
    "hur_cost.info()"
   ]
  },
  {
   "cell_type": "code",
   "execution_count": 37,
   "metadata": {},
   "outputs": [
    {
     "data": {
      "text/plain": [
       "(728, 18)"
      ]
     },
     "execution_count": 37,
     "metadata": {},
     "output_type": "execute_result"
    }
   ],
   "source": [
    "#Creating masks for later use\n",
    "no_effect = (hur_cost.areas_affected == 'None')\n",
    "effect = (hur_cost.areas_affected != 'None')\n",
    "\n",
    "# Columns by type\n",
    "non_numeric = ['name', 'stormID', 'areas_affected', 'dates_active', 'year']\n",
    "\n",
    "numeric = ['damage_USD','max_storm_cat', 'deaths', 'duration',\n",
    "           'lat_delta', 'lon_delta', 'wind_v_max','wind_v_med',\n",
    "           'p_min', 'p_med', '34kt_r_max', '34kt_r_med', '50kt_r_max',\n",
    "           '50kt_r_med', '64kt_r_max', '64kt_r_med', 'damage_imputed', 'landfall',]\n",
    "\n",
    "cols_w_nan = ['34kt_r_max', '34kt_r_med', '50kt_r_max',\n",
    "           '50kt_r_med', '64kt_r_max', '64kt_r_med']\n",
    "\n",
    "hur_cost[numeric].shape"
   ]
  },
  {
   "cell_type": "code",
   "execution_count": 31,
   "metadata": {},
   "outputs": [
    {
     "name": "stdout",
     "output_type": "stream",
     "text": [
      "<class 'pandas.core.frame.DataFrame'>\n",
      "Int64Index: 507 entries, 1 to 727\n",
      "Data columns (total 18 columns):\n",
      "damage_USD        507 non-null float64\n",
      "max_storm_cat     507 non-null int64\n",
      "deaths            507 non-null float64\n",
      "duration          507 non-null float64\n",
      "lat_delta         507 non-null float64\n",
      "lon_delta         507 non-null float64\n",
      "wind_v_max        507 non-null float64\n",
      "wind_v_med        507 non-null float64\n",
      "p_min             507 non-null float64\n",
      "p_med             482 non-null float64\n",
      "34kt_r_max        193 non-null float64\n",
      "34kt_r_med        193 non-null float64\n",
      "50kt_r_max        193 non-null float64\n",
      "50kt_r_med        193 non-null float64\n",
      "64kt_r_max        193 non-null float64\n",
      "64kt_r_med        193 non-null float64\n",
      "damage_imputed    507 non-null int32\n",
      "landfall          507 non-null int64\n",
      "dtypes: float64(15), int32(1), int64(2)\n",
      "memory usage: 73.3 KB\n"
     ]
    }
   ],
   "source": [
    "# Isolating storms with effect, numeric columns\n",
    "hur_numeric = hur_cost[effect].select_dtypes(exclude=['object'])\n",
    "hur_numeric.info()"
   ]
  },
  {
   "cell_type": "markdown",
   "metadata": {},
   "source": [
    "There appear to be two model paths going forward:\n",
    " * Train a model only on the features where most storms have data. This would mean excluding the windspeed radii features, for example.\n",
    " * Retain all storm records, and replace the NaN values with imputed data. Options for imputing:\n",
    "  * Impute based on mean/median of that feature\n",
    "  * Bin the storms if they share similar values for other features, and then impute the data based on the mean/median of that bin itself.  \n",
    "  \n",
    "I'll explore the first option intially, where I retain only the features with mostly non-Nan values"
   ]
  },
  {
   "cell_type": "code",
   "execution_count": 64,
   "metadata": {},
   "outputs": [
    {
     "name": "stdout",
     "output_type": "stream",
     "text": [
      "<class 'pandas.core.frame.DataFrame'>\n",
      "Int64Index: 482 entries, 1 to 727\n",
      "Data columns (total 12 columns):\n",
      "damage_USD        482 non-null float64\n",
      "max_storm_cat     482 non-null int64\n",
      "deaths            482 non-null float64\n",
      "duration          482 non-null float64\n",
      "lat_delta         482 non-null float64\n",
      "lon_delta         482 non-null float64\n",
      "wind_v_max        482 non-null float64\n",
      "wind_v_med        482 non-null float64\n",
      "p_min             482 non-null float64\n",
      "p_med             482 non-null float64\n",
      "damage_imputed    482 non-null int32\n",
      "landfall          482 non-null int64\n",
      "dtypes: float64(9), int32(1), int64(2)\n",
      "memory usage: 47.1 KB\n"
     ]
    }
   ],
   "source": [
    "np.random.seed(5) # Controlling\n",
    "hurricanes = hur_numeric.drop(labels = cols_w_nan, axis = 1).dropna()\n",
    "hurricanes.info()"
   ]
  },
  {
   "cell_type": "code",
   "execution_count": 46,
   "metadata": {},
   "outputs": [],
   "source": [
    "# Create test and holdout groups of data.\n",
    "X_trn, X_tst, y_trn, y_tst = train_test_split(\n",
    "    hurricanes.iloc[:,1:], hurricanes.iloc[:,0], test_size=0.2, random_state=42)\n",
    "\n",
    "# Scale features\n",
    "# Remove, then re-add binary variables: 'damage_imputed', 'landfall'\n",
    "\n",
    "ssX = StandardScaler()\n",
    "X_trn_scaled = ssX.fit_transform(X_trn)\n",
    "\n",
    "#Binary variables are at back indices, replace\n",
    "X_trn_scaled[:,-2:] = X_trn[['damage_imputed', 'landfall']]"
   ]
  },
  {
   "cell_type": "markdown",
   "metadata": {},
   "source": [
    "Using the above data set, I'm going to experiment with general linear regression, then move on to Ridge, Lasso, and RidgeCV."
   ]
  },
  {
   "cell_type": "code",
   "execution_count": 49,
   "metadata": {},
   "outputs": [
    {
     "data": {
      "text/plain": [
       "0.1345905861517458"
      ]
     },
     "execution_count": 49,
     "metadata": {},
     "output_type": "execute_result"
    }
   ],
   "source": [
    "# Very basic regression\n",
    "lr = LinearRegression()\n",
    "lr.fit(X_trn_scaled, y_trn)\n",
    "lr.score(X_trn_scaled, y_trn)\n",
    "\n",
    "#Outputs R2"
   ]
  },
  {
   "cell_type": "markdown",
   "metadata": {},
   "source": [
    "Testing polynomial features. The script below is copied straight from lecture, Week 3 Day1."
   ]
  },
  {
   "cell_type": "code",
   "execution_count": 54,
   "metadata": {},
   "outputs": [
    {
     "data": {
      "image/png": "[encoded data removed]",
      "text/plain": [
       "<Figure size 800x400 with 1 Axes>"
      ]
     },
     "metadata": {
      "needs_background": "light"
     },
     "output_type": "display_data"
    }
   ],
   "source": [
    "# Step through degrees from 0 to 9 and store the training and test (generalization) error.\n",
    "train_error = np.empty(10)\n",
    "test_error = np.empty(10)\n",
    "for degree in range(10):\n",
    "    est = make_pipeline(PolynomialFeatures(degree), LinearRegression())\n",
    "    est.fit(X_trn, y_trn)\n",
    "    train_error[degree] = mean_squared_error(y_trn, est.predict(X_trn))\n",
    "    test_error[degree] = mean_squared_error(y_tst, est.predict(X_tst))\n",
    "\n",
    "# Plot the training and test errors against degree\n",
    "plt.figure(dpi=100, figsize=(8,4))\n",
    "plt.plot(np.arange(10), train_error, color='blue', label='train')\n",
    "plt.plot(np.arange(10), test_error, color='red', label='test')\n",
    "#plt.ylim((0.0, 10))\n",
    "plt.ylabel('log(mean squared error)')\n",
    "plt.xlabel('degree')\n",
    "plt.legend(loc='upper left');"
   ]
  },
  {
   "cell_type": "code",
   "execution_count": 94,
   "metadata": {},
   "outputs": [
    {
     "name": "stderr",
     "output_type": "stream",
     "text": [
      "/anaconda3/lib/python3.7/site-packages/sklearn/linear_model/coordinate_descent.py:491: ConvergenceWarning: Objective did not converge. You might want to increase the number of iterations. Fitting data with very small alpha may cause precision problems.\n",
      "  ConvergenceWarning)\n",
      "/anaconda3/lib/python3.7/site-packages/sklearn/linear_model/coordinate_descent.py:491: ConvergenceWarning: Objective did not converge. You might want to increase the number of iterations. Fitting data with very small alpha may cause precision problems.\n",
      "  ConvergenceWarning)\n",
      "/anaconda3/lib/python3.7/site-packages/sklearn/linear_model/coordinate_descent.py:491: ConvergenceWarning: Objective did not converge. You might want to increase the number of iterations. Fitting data with very small alpha may cause precision problems.\n",
      "  ConvergenceWarning)\n",
      "/anaconda3/lib/python3.7/site-packages/sklearn/linear_model/coordinate_descent.py:491: ConvergenceWarning: Objective did not converge. You might want to increase the number of iterations. Fitting data with very small alpha may cause precision problems.\n",
      "  ConvergenceWarning)\n",
      "/anaconda3/lib/python3.7/site-packages/sklearn/linear_model/coordinate_descent.py:491: ConvergenceWarning: Objective did not converge. You might want to increase the number of iterations. Fitting data with very small alpha may cause precision problems.\n",
      "  ConvergenceWarning)\n",
      "/anaconda3/lib/python3.7/site-packages/sklearn/linear_model/coordinate_descent.py:491: ConvergenceWarning: Objective did not converge. You might want to increase the number of iterations. Fitting data with very small alpha may cause precision problems.\n",
      "  ConvergenceWarning)\n",
      "/anaconda3/lib/python3.7/site-packages/sklearn/linear_model/coordinate_descent.py:491: ConvergenceWarning: Objective did not converge. You might want to increase the number of iterations. Fitting data with very small alpha may cause precision problems.\n",
      "  ConvergenceWarning)\n",
      "/anaconda3/lib/python3.7/site-packages/sklearn/linear_model/coordinate_descent.py:491: ConvergenceWarning: Objective did not converge. You might want to increase the number of iterations. Fitting data with very small alpha may cause precision problems.\n",
      "  ConvergenceWarning)\n",
      "/anaconda3/lib/python3.7/site-packages/sklearn/linear_model/coordinate_descent.py:491: ConvergenceWarning: Objective did not converge. You might want to increase the number of iterations. Fitting data with very small alpha may cause precision problems.\n",
      "  ConvergenceWarning)\n",
      "/anaconda3/lib/python3.7/site-packages/sklearn/linear_model/coordinate_descent.py:491: ConvergenceWarning: Objective did not converge. You might want to increase the number of iterations. Fitting data with very small alpha may cause precision problems.\n",
      "  ConvergenceWarning)\n",
      "/anaconda3/lib/python3.7/site-packages/sklearn/linear_model/coordinate_descent.py:491: ConvergenceWarning: Objective did not converge. You might want to increase the number of iterations. Fitting data with very small alpha may cause precision problems.\n",
      "  ConvergenceWarning)\n",
      "/anaconda3/lib/python3.7/site-packages/sklearn/linear_model/coordinate_descent.py:491: ConvergenceWarning: Objective did not converge. You might want to increase the number of iterations. Fitting data with very small alpha may cause precision problems.\n",
      "  ConvergenceWarning)\n",
      "/anaconda3/lib/python3.7/site-packages/sklearn/linear_model/coordinate_descent.py:491: ConvergenceWarning: Objective did not converge. You might want to increase the number of iterations. Fitting data with very small alpha may cause precision problems.\n",
      "  ConvergenceWarning)\n",
      "/anaconda3/lib/python3.7/site-packages/sklearn/linear_model/coordinate_descent.py:491: ConvergenceWarning: Objective did not converge. You might want to increase the number of iterations. Fitting data with very small alpha may cause precision problems.\n",
      "  ConvergenceWarning)\n",
      "/anaconda3/lib/python3.7/site-packages/sklearn/linear_model/coordinate_descent.py:491: ConvergenceWarning: Objective did not converge. You might want to increase the number of iterations. Fitting data with very small alpha may cause precision problems.\n",
      "  ConvergenceWarning)\n",
      "/anaconda3/lib/python3.7/site-packages/sklearn/linear_model/coordinate_descent.py:491: ConvergenceWarning: Objective did not converge. You might want to increase the number of iterations. Fitting data with very small alpha may cause precision problems.\n",
      "  ConvergenceWarning)\n",
      "/anaconda3/lib/python3.7/site-packages/sklearn/linear_model/coordinate_descent.py:491: ConvergenceWarning: Objective did not converge. You might want to increase the number of iterations. Fitting data with very small alpha may cause precision problems.\n",
      "  ConvergenceWarning)\n",
      "/anaconda3/lib/python3.7/site-packages/sklearn/linear_model/coordinate_descent.py:491: ConvergenceWarning: Objective did not converge. You might want to increase the number of iterations. Fitting data with very small alpha may cause precision problems.\n",
      "  ConvergenceWarning)\n",
      "/anaconda3/lib/python3.7/site-packages/sklearn/linear_model/coordinate_descent.py:491: ConvergenceWarning: Objective did not converge. You might want to increase the number of iterations. Fitting data with very small alpha may cause precision problems.\n",
      "  ConvergenceWarning)\n",
      "/anaconda3/lib/python3.7/site-packages/sklearn/linear_model/coordinate_descent.py:491: ConvergenceWarning: Objective did not converge. You might want to increase the number of iterations. Fitting data with very small alpha may cause precision problems.\n",
      "  ConvergenceWarning)\n"
     ]
    },
    {
     "name": "stdout",
     "output_type": "stream",
     "text": [
      "-1.0844391390627107e+21 {'alpha': 1000000.0, 'fit_intercept': True}\n"
     ]
    }
   ],
   "source": [
    "def model_GSCV(X,y, use_model = Lasso, scoring = 'neg_mean_squared_error', cv=10):\n",
    "    '''\n",
    "    Trains a regression model on provided data using k-fold cross validation through grid search.\n",
    "    Paramters:\n",
    "        X: np.array() or pd.DataFrame(): feature values data set\n",
    "        y: np.array() or pd.Series(): target values data set\n",
    "        use_model: sklearn.linearmodels. : model to train\n",
    "        scoring: str: method for assessing error\n",
    "        cv: number of cross-validation sets to use\n",
    "    Returns:\n",
    "        best_err: float: lowest error value achieved\n",
    "        best_params: dict: hyperparameters tuned by model\n",
    "    '''\n",
    "    model = use_model()\n",
    "    parameters = {'alpha': np.linspace(1e-6, 1e6,1000), 'fit_intercept': [True,False]}\n",
    "    grid = GridSearchCV(model,parameters, cv=10, scoring='neg_mean_squared_error', n_jobs=1)\n",
    "    grid.fit(X_trn_scaled, y_trn)\n",
    "    \n",
    "    return grid.best_score_, grid.best_params_\n",
    "\n",
    "lasso_err, lasso_params = model_GSCV(X_trn_scaled, y_trn, Lasso)\n",
    "print(lasso_err, lasso_params)"
   ]
  },
  {
   "cell_type": "code",
   "execution_count": 96,
   "metadata": {},
   "outputs": [
    {
     "name": "stdout",
     "output_type": "stream",
     "text": [
      "-1.0461757014212303e+21 {'alpha': 1001.001002, 'fit_intercept': True}\n"
     ]
    }
   ],
   "source": [
    "ridge_err, ridge_params = model_GSCV(X_trn_scaled, y_trn, Ridge)\n",
    "print(ridge_err, ridge_params)"
   ]
  },
  {
   "cell_type": "markdown",
   "metadata": {},
   "source": [
    "From the above, it's pretty clear that lambda diverges as the Lasso model approaches a very high-bias state. Similar behavior with the Ridge method. \n",
    "\n",
    "On to Ridge and Lasso with cross-validation."
   ]
  },
  {
   "cell_type": "code",
   "execution_count": null,
   "metadata": {},
   "outputs": [],
   "source": []
  },
  {
   "cell_type": "markdown",
   "metadata": {},
   "source": [
    "sklearn [RidgeCV()](http://scikit-learn.org/stable/modules/generated/sklearn.linear_model.RidgeCV.html)\n",
    "and [LassoCV()](http://scikit-learn.org/stable/modules/generated/sklearn.linear_model.LassoCV.html)\n",
    "documentation."
   ]
  },
  {
   "cell_type": "code",
   "execution_count": 118,
   "metadata": {},
   "outputs": [
    {
     "name": "stdout",
     "output_type": "stream",
     "text": [
      "0.07267562392539595\n"
     ]
    }
   ],
   "source": [
    "fit_rcv = RidgeCV(alphas = np.linspace(1e-6, 1e6,1000),\n",
    "              fit_intercept= [True,False],\n",
    "              cv = 10,\n",
    "             scoring = 'neg_mean_squared_error')\n",
    "\n",
    "fit_rcv.fit(X_trn_scaled, y_trn)\n",
    "score_rcv = fit_rcv.score(X_trn_scaled, y_trn)\n",
    "print(score_rcv)"
   ]
  },
  {
   "cell_type": "code",
   "execution_count": 116,
   "metadata": {},
   "outputs": [
    {
     "name": "stderr",
     "output_type": "stream",
     "text": [
      "/anaconda3/lib/python3.7/site-packages/sklearn/linear_model/coordinate_descent.py:491: ConvergenceWarning: Objective did not converge. You might want to increase the number of iterations. Fitting data with very small alpha may cause precision problems.\n",
      "  ConvergenceWarning)\n",
      "/anaconda3/lib/python3.7/site-packages/sklearn/linear_model/coordinate_descent.py:491: ConvergenceWarning: Objective did not converge. You might want to increase the number of iterations. Fitting data with very small alpha may cause precision problems.\n",
      "  ConvergenceWarning)\n",
      "/anaconda3/lib/python3.7/site-packages/sklearn/linear_model/coordinate_descent.py:491: ConvergenceWarning: Objective did not converge. You might want to increase the number of iterations. Fitting data with very small alpha may cause precision problems.\n",
      "  ConvergenceWarning)\n",
      "/anaconda3/lib/python3.7/site-packages/sklearn/linear_model/coordinate_descent.py:491: ConvergenceWarning: Objective did not converge. You might want to increase the number of iterations. Fitting data with very small alpha may cause precision problems.\n",
      "  ConvergenceWarning)\n",
      "/anaconda3/lib/python3.7/site-packages/sklearn/linear_model/coordinate_descent.py:491: ConvergenceWarning: Objective did not converge. You might want to increase the number of iterations. Fitting data with very small alpha may cause precision problems.\n",
      "  ConvergenceWarning)\n",
      "/anaconda3/lib/python3.7/site-packages/sklearn/linear_model/coordinate_descent.py:491: ConvergenceWarning: Objective did not converge. You might want to increase the number of iterations. Fitting data with very small alpha may cause precision problems.\n",
      "  ConvergenceWarning)\n",
      "/anaconda3/lib/python3.7/site-packages/sklearn/linear_model/coordinate_descent.py:491: ConvergenceWarning: Objective did not converge. You might want to increase the number of iterations. Fitting data with very small alpha may cause precision problems.\n",
      "  ConvergenceWarning)\n",
      "/anaconda3/lib/python3.7/site-packages/sklearn/linear_model/coordinate_descent.py:491: ConvergenceWarning: Objective did not converge. You might want to increase the number of iterations. Fitting data with very small alpha may cause precision problems.\n",
      "  ConvergenceWarning)\n"
     ]
    },
    {
     "name": "stdout",
     "output_type": "stream",
     "text": [
      "0.13459048707030097\n"
     ]
    },
    {
     "name": "stderr",
     "output_type": "stream",
     "text": [
      "/anaconda3/lib/python3.7/site-packages/sklearn/linear_model/coordinate_descent.py:491: ConvergenceWarning: Objective did not converge. You might want to increase the number of iterations. Fitting data with very small alpha may cause precision problems.\n",
      "  ConvergenceWarning)\n",
      "/anaconda3/lib/python3.7/site-packages/sklearn/linear_model/coordinate_descent.py:491: ConvergenceWarning: Objective did not converge. You might want to increase the number of iterations. Fitting data with very small alpha may cause precision problems.\n",
      "  ConvergenceWarning)\n"
     ]
    }
   ],
   "source": [
    "fit_lcv = LassoCV(alphas = np.linspace(1e-6, 1e6,1000),\n",
    "              fit_intercept= [True,False],\n",
    "              max_iter = 10000,\n",
    "                cv = 10)\n",
    "\n",
    "fit_lcv.fit(X_trn_scaled, y_trn)\n",
    "score_lcv = fit_lcv.score(X_trn_scaled, y_trn)\n",
    "print(score_lcv)"
   ]
  },
  {
   "cell_type": "markdown",
   "metadata": {},
   "source": [
    "### Best Model so Far\n",
    "Of the models tested so far, I get the best results using this model and this combination of features. Here, we'll get that model's performance on the holdout set and take a look at our parameter (beta) values when training on the whole set."
   ]
  },
  {
   "cell_type": "code",
   "execution_count": null,
   "metadata": {},
   "outputs": [],
   "source": []
  }
 ],
 "metadata": {
  "kernelspec": {
   "display_name": "Python 3",
   "language": "python",
   "name": "python3"
  },
  "language_info": {
   "codemirror_mode": {
    "name": "ipython",
    "version": 3
   },
   "file_extension": ".py",
   "mimetype": "text/x-python",
   "name": "python",
   "nbconvert_exporter": "python",
   "pygments_lexer": "ipython3",
   "version": "3.7.0"
  }
 },
 "nbformat": 4,
 "nbformat_minor": 2
}
