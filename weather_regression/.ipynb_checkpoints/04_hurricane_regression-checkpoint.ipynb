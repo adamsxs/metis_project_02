{
 "cells": [
  {
   "cell_type": "markdown",
   "metadata": {},
   "source": [
    "# Regression Analysis of Storm & Cost Data\n",
    "This notebook imports Atlantic storm meteorological and cost data for storms from 1968 to 2017, and then implements linear regression models to predict storm damage costs. Models include OLS, Ridge Regression, and Lasso Regression, all with cross-validation of error metrics. Error values are written in a few blocks. These do not represent everything attempted, just the methods that by the end were generating relatively better fits.  \n",
    "\n",
    "The companion notebook on data visualization for this project reflects why certain changes were made."
   ]
  },
  {
   "cell_type": "code",
   "execution_count": 16,
   "metadata": {},
   "outputs": [],
   "source": [
    "import pandas as pd\n",
    "import numpy as np\n",
    "\n",
    "from sklearn.linear_model import LinearRegression\n",
    "from sklearn.model_selection import KFold, train_test_split, GridSearchCV\n",
    "from sklearn.linear_model import Lasso, Ridge, LassoCV, RidgeCV\n",
    "from sklearn.pipeline import make_pipeline\n",
    "from sklearn.preprocessing import StandardScaler, PolynomialFeatures\n",
    "from sklearn.metrics import mean_squared_error\n",
    "\n",
    "import seaborn as sns\n",
    "import matplotlib.pyplot as plt\n",
    "\n",
    "%matplotlib inline"
   ]
  },
  {
   "cell_type": "markdown",
   "metadata": {},
   "source": [
    "## Identifying Different Slices of the Data to Incorporate\n",
    "The blocks below demonstrate how the data is brought in and showcases a few ideas about how to segment the data. As brought up in the notebooks on merging the data, I experimented with:\n",
    "* Keeping all storms but eliminating features without measurements\n",
    "* Keeping all features and eliminating storms without measurements. Wind radii measurements weren't reliably taken until 2004 so this does drastically segment the data, leaving slightly over 200 training examples."
   ]
  },
  {
   "cell_type": "code",
   "execution_count": 2,
   "metadata": {},
   "outputs": [
    {
     "name": "stdout",
     "output_type": "stream",
     "text": [
      "<class 'pandas.core.frame.DataFrame'>\n",
      "Int64Index: 728 entries, 0 to 727\n",
      "Data columns (total 23 columns):\n",
      "damage_USD        728 non-null float64\n",
      "name              728 non-null object\n",
      "stormID           728 non-null object\n",
      "areas_affected    728 non-null object\n",
      "dates_active      728 non-null object\n",
      "max_storm_cat     728 non-null int64\n",
      "deaths            728 non-null int64\n",
      "year              728 non-null object\n",
      "duration          728 non-null float64\n",
      "lat_delta         728 non-null float64\n",
      "lon_delta         728 non-null float64\n",
      "wind_v_max        728 non-null float64\n",
      "wind_v_med        728 non-null float64\n",
      "p_min             728 non-null float64\n",
      "p_med             622 non-null float64\n",
      "34kt_r_max        230 non-null float64\n",
      "34kt_r_med        230 non-null float64\n",
      "50kt_r_max        230 non-null float64\n",
      "50kt_r_med        230 non-null float64\n",
      "64kt_r_max        230 non-null float64\n",
      "64kt_r_med        230 non-null float64\n",
      "damage_imputed    728 non-null int64\n",
      "landfall          728 non-null int64\n",
      "dtypes: float64(14), int64(4), object(5)\n",
      "memory usage: 136.5+ KB\n"
     ]
    }
   ],
   "source": [
    "path = './'\n",
    "\n",
    "#file = 'storms_with_effect.pkl' #old dataset\n",
    "file = 'storms_merged.pkl'\n",
    "\n",
    "hur_cost = pd.read_pickle(path+file)\n",
    "\n",
    "hur_cost.info()"
   ]
  },
  {
   "cell_type": "code",
   "execution_count": 3,
   "metadata": {},
   "outputs": [
    {
     "data": {
      "text/plain": [
       "(728, 18)"
      ]
     },
     "execution_count": 3,
     "metadata": {},
     "output_type": "execute_result"
    }
   ],
   "source": [
    "#Creating masks for later use\n",
    "no_effect = (hur_cost.areas_affected == 'None')\n",
    "effect = (hur_cost.areas_affected != 'None')\n",
    "\n",
    "# Columns by type\n",
    "non_numeric = ['name', 'stormID', 'areas_affected', 'dates_active', 'year']\n",
    "\n",
    "numeric = ['damage_USD','max_storm_cat', 'deaths', 'duration',\n",
    "           'lat_delta', 'lon_delta', 'wind_v_max','wind_v_med',\n",
    "           'p_min', 'p_med', '34kt_r_max', '34kt_r_med', '50kt_r_max',\n",
    "           '50kt_r_med', '64kt_r_max', '64kt_r_med', 'damage_imputed', 'landfall',]\n",
    "\n",
    "cols_radii = ['34kt_r_max', '34kt_r_med', '50kt_r_max',\n",
    "           '50kt_r_med', '64kt_r_max', '64kt_r_med']\n",
    "\n",
    "hur_cost[numeric].shape"
   ]
  },
  {
   "cell_type": "code",
   "execution_count": 4,
   "metadata": {},
   "outputs": [
    {
     "data": {
      "text/html": [
       "<div>\n",
       "<style scoped>\n",
       "    .dataframe tbody tr th:only-of-type {\n",
       "        vertical-align: middle;\n",
       "    }\n",
       "\n",
       "    .dataframe tbody tr th {\n",
       "        vertical-align: top;\n",
       "    }\n",
       "\n",
       "    .dataframe thead th {\n",
       "        text-align: right;\n",
       "    }\n",
       "</style>\n",
       "<table border=\"1\" class=\"dataframe\">\n",
       "  <thead>\n",
       "    <tr style=\"text-align: right;\">\n",
       "      <th></th>\n",
       "      <th>damage_USD</th>\n",
       "      <th>deaths</th>\n",
       "      <th>p_min</th>\n",
       "      <th>max_storm_cat</th>\n",
       "      <th>wind_v_max</th>\n",
       "      <th>p_med</th>\n",
       "      <th>64kt_r_med</th>\n",
       "      <th>wind_v_med</th>\n",
       "    </tr>\n",
       "  </thead>\n",
       "  <tbody>\n",
       "    <tr>\n",
       "      <th>damage_USD</th>\n",
       "      <td>1.000000</td>\n",
       "      <td>0.506317</td>\n",
       "      <td>-0.464473</td>\n",
       "      <td>0.408222</td>\n",
       "      <td>0.400592</td>\n",
       "      <td>-0.367360</td>\n",
       "      <td>0.341410</td>\n",
       "      <td>0.329425</td>\n",
       "    </tr>\n",
       "    <tr>\n",
       "      <th>deaths</th>\n",
       "      <td>0.506317</td>\n",
       "      <td>1.000000</td>\n",
       "      <td>-0.303482</td>\n",
       "      <td>0.264166</td>\n",
       "      <td>0.268409</td>\n",
       "      <td>-0.221883</td>\n",
       "      <td>0.198403</td>\n",
       "      <td>0.214257</td>\n",
       "    </tr>\n",
       "    <tr>\n",
       "      <th>p_min</th>\n",
       "      <td>-0.464473</td>\n",
       "      <td>-0.303482</td>\n",
       "      <td>1.000000</td>\n",
       "      <td>-0.938941</td>\n",
       "      <td>-0.959126</td>\n",
       "      <td>0.819427</td>\n",
       "      <td>-0.627438</td>\n",
       "      <td>-0.798070</td>\n",
       "    </tr>\n",
       "    <tr>\n",
       "      <th>max_storm_cat</th>\n",
       "      <td>0.408222</td>\n",
       "      <td>0.264166</td>\n",
       "      <td>-0.938941</td>\n",
       "      <td>1.000000</td>\n",
       "      <td>0.975015</td>\n",
       "      <td>-0.745828</td>\n",
       "      <td>0.589159</td>\n",
       "      <td>0.773304</td>\n",
       "    </tr>\n",
       "    <tr>\n",
       "      <th>wind_v_max</th>\n",
       "      <td>0.400592</td>\n",
       "      <td>0.268409</td>\n",
       "      <td>-0.959126</td>\n",
       "      <td>0.975015</td>\n",
       "      <td>1.000000</td>\n",
       "      <td>-0.765522</td>\n",
       "      <td>0.584951</td>\n",
       "      <td>0.794760</td>\n",
       "    </tr>\n",
       "    <tr>\n",
       "      <th>p_med</th>\n",
       "      <td>-0.367360</td>\n",
       "      <td>-0.221883</td>\n",
       "      <td>0.819427</td>\n",
       "      <td>-0.745828</td>\n",
       "      <td>-0.765522</td>\n",
       "      <td>1.000000</td>\n",
       "      <td>-0.786979</td>\n",
       "      <td>-0.911642</td>\n",
       "    </tr>\n",
       "    <tr>\n",
       "      <th>64kt_r_med</th>\n",
       "      <td>0.341410</td>\n",
       "      <td>0.198403</td>\n",
       "      <td>-0.627438</td>\n",
       "      <td>0.589159</td>\n",
       "      <td>0.584951</td>\n",
       "      <td>-0.786979</td>\n",
       "      <td>1.000000</td>\n",
       "      <td>0.732920</td>\n",
       "    </tr>\n",
       "    <tr>\n",
       "      <th>wind_v_med</th>\n",
       "      <td>0.329425</td>\n",
       "      <td>0.214257</td>\n",
       "      <td>-0.798070</td>\n",
       "      <td>0.773304</td>\n",
       "      <td>0.794760</td>\n",
       "      <td>-0.911642</td>\n",
       "      <td>0.732920</td>\n",
       "      <td>1.000000</td>\n",
       "    </tr>\n",
       "  </tbody>\n",
       "</table>\n",
       "</div>"
      ],
      "text/plain": [
       "               damage_USD    deaths     p_min  max_storm_cat  wind_v_max  \\\n",
       "damage_USD       1.000000  0.506317 -0.464473       0.408222    0.400592   \n",
       "deaths           0.506317  1.000000 -0.303482       0.264166    0.268409   \n",
       "p_min           -0.464473 -0.303482  1.000000      -0.938941   -0.959126   \n",
       "max_storm_cat    0.408222  0.264166 -0.938941       1.000000    0.975015   \n",
       "wind_v_max       0.400592  0.268409 -0.959126       0.975015    1.000000   \n",
       "p_med           -0.367360 -0.221883  0.819427      -0.745828   -0.765522   \n",
       "64kt_r_med       0.341410  0.198403 -0.627438       0.589159    0.584951   \n",
       "wind_v_med       0.329425  0.214257 -0.798070       0.773304    0.794760   \n",
       "\n",
       "                  p_med  64kt_r_med  wind_v_med  \n",
       "damage_USD    -0.367360    0.341410    0.329425  \n",
       "deaths        -0.221883    0.198403    0.214257  \n",
       "p_min          0.819427   -0.627438   -0.798070  \n",
       "max_storm_cat -0.745828    0.589159    0.773304  \n",
       "wind_v_max    -0.765522    0.584951    0.794760  \n",
       "p_med          1.000000   -0.786979   -0.911642  \n",
       "64kt_r_med    -0.786979    1.000000    0.732920  \n",
       "wind_v_med    -0.911642    0.732920    1.000000  "
      ]
     },
     "execution_count": 4,
     "metadata": {},
     "output_type": "execute_result"
    }
   ],
   "source": [
    "# Isolating storms that have wind-radius data\n",
    "hur_wind = hur_cost.dropna().reset_index(drop=True).select_dtypes(exclude = ['object'])\n",
    "#hur_wind.info()\n",
    "#hur_wind.corr()['damage_USD'].sort_values(ascending = False)\n",
    "\n",
    "# Get 6 strongest correlations\n",
    "strong_corrs = hur_wind.corr()['damage_USD'].apply(abs)\\\n",
    "    .sort_values(ascending = False).index[:8]\n",
    "hur_wind[strong_corrs].corr()"
   ]
  },
  {
   "cell_type": "code",
   "execution_count": 5,
   "metadata": {},
   "outputs": [
    {
     "name": "stdout",
     "output_type": "stream",
     "text": [
      "<class 'pandas.core.frame.DataFrame'>\n",
      "Int64Index: 507 entries, 1 to 727\n",
      "Data columns (total 18 columns):\n",
      "damage_USD        507 non-null float64\n",
      "max_storm_cat     507 non-null int64\n",
      "deaths            507 non-null int64\n",
      "duration          507 non-null float64\n",
      "lat_delta         507 non-null float64\n",
      "lon_delta         507 non-null float64\n",
      "wind_v_max        507 non-null float64\n",
      "wind_v_med        507 non-null float64\n",
      "p_min             507 non-null float64\n",
      "p_med             482 non-null float64\n",
      "34kt_r_max        193 non-null float64\n",
      "34kt_r_med        193 non-null float64\n",
      "50kt_r_max        193 non-null float64\n",
      "50kt_r_med        193 non-null float64\n",
      "64kt_r_max        193 non-null float64\n",
      "64kt_r_med        193 non-null float64\n",
      "damage_imputed    507 non-null int64\n",
      "landfall          507 non-null int64\n",
      "dtypes: float64(14), int64(4)\n",
      "memory usage: 75.3 KB\n"
     ]
    }
   ],
   "source": [
    "# Isolating storms with effect, numeric columns\n",
    "hur_numeric = hur_cost[effect].select_dtypes(exclude=['object'])\n",
    "hur_numeric.info()"
   ]
  },
  {
   "cell_type": "markdown",
   "metadata": {},
   "source": [
    "There appear to be two model paths going forward:\n",
    " * Train a model only on the features where most storms have data. This would mean excluding the windspeed radii features, for example.\n",
    " * Retain all storm records, and replace the NaN values with imputed data. Options for imputing:\n",
    "  * Impute based on mean/median of that feature\n",
    "  * Bin the storms if they share similar values for other features, and then impute the data based on the mean/median of that bin itself.  \n",
    "  \n",
    "The commands in the following block allow that choice to be made: depending on which is commented out, the `hurricanes` dataframe that goes into the analysis portion is given certain data. I re-use this strategy frequently so that I have only need to re-assign data sets in one place instead of in all of my regression commands when switching sets."
   ]
  },
  {
   "cell_type": "code",
   "execution_count": 6,
   "metadata": {},
   "outputs": [
    {
     "name": "stdout",
     "output_type": "stream",
     "text": [
      "<class 'pandas.core.frame.DataFrame'>\n",
      "RangeIndex: 230 entries, 0 to 229\n",
      "Data columns (total 18 columns):\n",
      "damage_USD        230 non-null float64\n",
      "max_storm_cat     230 non-null int64\n",
      "deaths            230 non-null int64\n",
      "duration          230 non-null float64\n",
      "lat_delta         230 non-null float64\n",
      "lon_delta         230 non-null float64\n",
      "wind_v_max        230 non-null float64\n",
      "wind_v_med        230 non-null float64\n",
      "p_min             230 non-null float64\n",
      "p_med             230 non-null float64\n",
      "34kt_r_max        230 non-null float64\n",
      "34kt_r_med        230 non-null float64\n",
      "50kt_r_max        230 non-null float64\n",
      "50kt_r_med        230 non-null float64\n",
      "64kt_r_max        230 non-null float64\n",
      "64kt_r_med        230 non-null float64\n",
      "damage_imputed    230 non-null int64\n",
      "landfall          230 non-null int64\n",
      "dtypes: float64(14), int64(4)\n",
      "memory usage: 32.4 KB\n"
     ]
    }
   ],
   "source": [
    "np.random.seed(42) # Controlling\n",
    "\n",
    "# Exclude certain features to retain more storms, then remove Nan values\n",
    "#hurricanes = hur_numeric.drop(labels = cols_radii, axis = 1).dropna()\n",
    "\n",
    "# Retain all features, exclude old storms without measurements.\n",
    "# Plays on relatively stronger correlations.\n",
    "hurricanes = hur_wind\n",
    "hurricanes.info()"
   ]
  },
  {
   "cell_type": "markdown",
   "metadata": {},
   "source": [
    "This next cell standardizes all feature values (except for binary features) and then splits the data into a testing group and a holdout group that is retained for later use validating the best model from testing.  \n",
    "\n",
    "Given that the features use vastly different units and scales, I ran all of my tests on standardized feature values."
   ]
  },
  {
   "cell_type": "code",
   "execution_count": 7,
   "metadata": {},
   "outputs": [],
   "source": [
    "def standardizeX(arr):\n",
    "    '''\n",
    "    Accepts an array-like object of feature values.\n",
    "    Returns array-like object of standard scaled feature values.\n",
    "    In this codebook, binary values are in the last two columns.\n",
    "    '''\n",
    "    ssX = StandardScaler()\n",
    "    arr_scaled = ssX.fit_transform(arr)\n",
    "    \n",
    "    # Binary variables are at back indices, replace\n",
    "    # Indexing by position because .fit_transform returns numpy array\n",
    "    arr_scaled[:,-2:] = arr[['damage_imputed', 'landfall']]\n",
    "    \n",
    "    return arr_scaled\n",
    "\n",
    "#Standardize all Features before splitting\n",
    "X_scl = standardizeX(hurricanes.iloc[:,1:])\n",
    "\n",
    "# Create test and holdout groups of data.\n",
    "X_trn_scl, X_holdout_scl, y_trn, y_holdout = train_test_split(\n",
    "    X_scl, hurricanes.iloc[:,0], test_size=0.2, random_state=42)\n",
    "\n",
    "# Standardize features after splitting\n",
    "# X_trn_scl = standardizeX(X_trn)\n",
    "# X_holdout_scl = standardizeX(X_holdout)"
   ]
  },
  {
   "cell_type": "markdown",
   "metadata": {},
   "source": [
    "## Regression Analysis\n",
    "\n",
    "The following blocks implement sklearn regression methods to predict the damage cost from meteorological data. There are sections on OLS, polynomial features, regularization methods, and cross-validation. I copy/pasted the results from certain runs above their respective code blocks to keep track of how certain attempts worked out.\n",
    "\n",
    "It came to my attention midway through my analysis that the storm damage values are extremely right-shifted (gamma distribution), so I also take a stab at predicting the log10 of y instead of y directly.  \n",
    "\n",
    "The second block below is where I assign the section of feature data I want to the variables that go into the models below. This leads to fewer changes in the individual model code when switching data sets. Those are:\n",
    "* `X_trn_scl`    : scaled feature values for training\n",
    "* `y_trn`        : dependent cost values for training \n",
    "* `X_holdout_scl`: scaled feature values for final error estimates\n",
    "* `y_holdout`    : dependent cost values for final error estimates"
   ]
  },
  {
   "cell_type": "code",
   "execution_count": 9,
   "metadata": {},
   "outputs": [],
   "source": [
    "#Creating log scale y, may be better than standard y.\n",
    "# Add +1 to y to get $0 damage examples represented in the y vector.\n",
    "y_trn_log = np.log10(y_trn+1)\n",
    "y_holdout_log = np.log10(y_holdout+1)"
   ]
  },
  {
   "cell_type": "code",
   "execution_count": 10,
   "metadata": {},
   "outputs": [],
   "source": [
    "'''       SETTING X AND Y TRAINING AND TESTING VALUES HERE        '''\n",
    "#Current: All storms with wind data, logarithmic y\n",
    "X_trn_scl = X_trn_scl\n",
    "y_trn = y_trn_log\n",
    "X_holdout_scl = X_holdout_scl\n",
    "y_holdout = y_holdout_log"
   ]
  },
  {
   "cell_type": "markdown",
   "metadata": {},
   "source": [
    "Using the above data set, I'm going to experiment with general linear regression, then move on to Ridge, Lasso, and RidgeCV.  \n",
    "\n",
    "### Linear Regression Scores:\n",
    "Error values are $R^{2}$\n",
    "* all storms, y:     0.1653\n",
    "* all storms, log y: 0.4375\n",
    "* storms w/ wind data, y: 0.3671\n",
    "* storms w/ wind data, log y: 0.611\n"
   ]
  },
  {
   "cell_type": "code",
   "execution_count": 11,
   "metadata": {},
   "outputs": [
    {
     "data": {
      "text/plain": [
       "0.6114949408635567"
      ]
     },
     "execution_count": 11,
     "metadata": {},
     "output_type": "execute_result"
    }
   ],
   "source": [
    "# Basic linear regression\n",
    "lr = LinearRegression()\n",
    "lr.fit(X_trn_scl, y_trn)\n",
    "lr.score(X_trn_scl, y_trn)\n",
    "\n",
    "#Outputs R2"
   ]
  },
  {
   "cell_type": "markdown",
   "metadata": {},
   "source": [
    "Section for experimenting with polynomial features. This chunk of code is a direct copy/paste from a Metis lecture on polynomial features."
   ]
  },
  {
   "cell_type": "code",
   "execution_count": 14,
   "metadata": {},
   "outputs": [
    {
     "data": {
      "image/png": "[encoded data removed]",
      "text/plain": [
       "<Figure size 800x400 with 1 Axes>"
      ]
     },
     "metadata": {
      "needs_background": "light"
     },
     "output_type": "display_data"
    }
   ],
   "source": [
    "X_t, X_tst, y_t, y_tst = train_test_split(X_trn_scl, y_trn, test_size=0.2, random_state=42)\n",
    "model_poly = LinearRegression\n",
    "\n",
    "# Step through degrees from 0 to 9 and store the training and test (generalization) error.\n",
    "train_error = np.empty(10)\n",
    "test_error = np.empty(10)\n",
    "for degree in range(6):\n",
    "    est = make_pipeline(PolynomialFeatures(degree), model_poly())\n",
    "    est.fit(X_t, y_t)\n",
    "    train_error[degree] = mean_squared_error(y_t, est.predict(X_t))\n",
    "    test_error[degree] = mean_squared_error(y_tst, est.predict(X_tst))\n",
    "\n",
    "# Plot the training and test errors against degree\n",
    "plt.figure(dpi=100, figsize=(8,4))\n",
    "plt.plot(np.arange(10), train_error, color='blue', label='train')\n",
    "plt.plot(np.arange(10), test_error, color='red', label='test')\n",
    "#plt.ylim((0.0, 10))\n",
    "plt.ylabel('log(mean squared error)')\n",
    "plt.xlabel('degree')\n",
    "plt.legend(loc='upper left');"
   ]
  },
  {
   "cell_type": "code",
   "execution_count": 19,
   "metadata": {},
   "outputs": [],
   "source": [
    "def model_GSCV(X,y, use_model = Lasso, scoring = 'neg_mean_squared_error', cv=10):\n",
    "    '''\n",
    "    Trains a regression model on provided data using k-fold cross validation through grid search.\n",
    "    Paramters:\n",
    "        X: np.array() or pd.DataFrame(): feature values data set\n",
    "        y: np.array() or pd.Series(): target values data set\n",
    "        use_model: sklearn.linearmodels. : model to train\n",
    "        scoring: str: method for assessing error\n",
    "        cv: number of cross-validation sets to use\n",
    "    Returns:\n",
    "        best_err: float: lowest error value achieved\n",
    "        best_params: dict: hyperparameters tuned by model\n",
    "    '''\n",
    "    model = use_model()\n",
    "    # Modify alpha range values to hone in on best \"alpha\"\n",
    "    parameters = {'alpha': np.linspace(1e-6, 1e6,100), 'fit_intercept': [True,False]}\n",
    "    grid = GridSearchCV(model,parameters, cv=10, scoring='neg_mean_squared_error', n_jobs=1)\n",
    "    grid.fit(X, y)\n",
    "    \n",
    "    return grid.score(X,y), grid.best_score_, grid.best_params_"
   ]
  },
  {
   "cell_type": "markdown",
   "metadata": {},
   "source": [
    "Lasso scores:\n",
    "* All storms, y: -1.0452361716018397e+20 {'alpha': 367676767.6767677, 'fit_intercept': True}\n",
    "* All storms, log y: -5.942746560577917 {'alpha': 0.021003098109810985, 'fit_intercept': True}\n",
    "* Storms w/ wind data, y: -1.8282220305331336e+20 {'alpha': 2212121212.121212, 'fit_intercept': True}\n",
    "* Storms w/ wind data, log y: -6.011312356167444 {'alpha': 0.08181818181818182, 'fit_intercept': True}"
   ]
  },
  {
   "cell_type": "code",
   "execution_count": 18,
   "metadata": {},
   "outputs": [
    {
     "name": "stdout",
     "output_type": "stream",
     "text": [
      "-6.011312356167444 {'alpha': 0.08181818181818182, 'fit_intercept': True}\n"
     ]
    }
   ],
   "source": [
    "lasso_r2, lasso_err, lasso_params = model_GSCV(X_trn_scl, y_trn, Lasso)\n",
    "print(lasso_err, lasso_params)"
   ]
  },
  {
   "cell_type": "markdown",
   "metadata": {},
   "source": [
    "Ridge scores:\n",
    "* All storms, y: -1.1797184174786937e+20 -1.1953899575459783e+20 {'alpha': 10000.0, 'fit_intercept': True}\n",
    "* All storms, log y: -6.443891325810198 {'alpha': 9.0, 'fit_intercept': True}\n",
    "* Storms w/ wind data, y: -1.4131373036008315e+20 -1.6711969901985353e+20 {'alpha': 354.54545454545456, 'fit_intercept': True}\n",
    "* Storms w/ wind data, log y: -5.09587338893752 -6.039801258028158 {'alpha': 5.090909090909091, 'fit_intercept': True}"
   ]
  },
  {
   "cell_type": "code",
   "execution_count": 20,
   "metadata": {},
   "outputs": [
    {
     "name": "stdout",
     "output_type": "stream",
     "text": [
      "-5.09587338893752 -6.039801258028158 {'alpha': 5.090909090909091, 'fit_intercept': True}\n"
     ]
    }
   ],
   "source": [
    "ridge_r2, ridge_err, ridge_params = model_GSCV(X_trn_scl, y_trn, Ridge)\n",
    "print(ridge_r2, ridge_err, ridge_params)"
   ]
  },
  {
   "cell_type": "markdown",
   "metadata": {},
   "source": [
    "## LassoCV and RidgeCV\n",
    "On to Ridge and Lasso with cross-validation. sklearn [RidgeCV()](http://scikit-learn.org/stable/modules/generated/sklearn.linear_model.RidgeCV.html)\n",
    "and [LassoCV()](http://scikit-learn.org/stable/modules/generated/sklearn.linear_model.LassoCV.html)\n",
    "documentation."
   ]
  },
  {
   "cell_type": "markdown",
   "metadata": {},
   "source": [
    "RidgeCV Scores:\n",
    "* All storms, y   : r2: 0.11678957501787333 lambda:  154.54545454545456  intercept: 1487266100.0822582\n",
    "* All storms, log y: r2: 0.42701362725593883 lambda:  5.1  intercept: 3.7536863966703358\n",
    "* Storms w/ wind data, y: \n",
    "r2: 0.24486469500507693 lambda:  356.5656565656566  intercept: 2921218969.191903  \n",
    "* Storms w/ wind data, log y: r2: 0.6059790492056177 lambda:  5.090909090909091  intercept: 2.658459849850538"
   ]
  },
  {
   "cell_type": "code",
   "execution_count": 21,
   "metadata": {},
   "outputs": [
    {
     "name": "stdout",
     "output_type": "stream",
     "text": [
      "r2: 0.6059790492056177 lambda:  5.090909090909091  intercept: 2.658459849850538\n"
     ]
    }
   ],
   "source": [
    "fit_rcv = RidgeCV(alphas = np.linspace(1e0, 1e1,100),\n",
    "              fit_intercept= [True,False],\n",
    "              cv = 10,\n",
    "             scoring = 'neg_mean_squared_error')\n",
    "\n",
    "fit_rcv.fit(X_trn_scl, y_trn)\n",
    "#cv_values = fit_rcv.cv_values_\n",
    "score_rcv = fit_rcv.score(X_trn_scl, y_trn)\n",
    "print('r2:', score_rcv, 'lambda: ',fit_rcv.alpha_, ' intercept:', fit_rcv.intercept_)\n",
    "#compute_avg_score(cv_values)"
   ]
  },
  {
   "cell_type": "markdown",
   "metadata": {},
   "source": [
    "LassoCV Scores:\n",
    "* All storms, y:     r2: 0.06888981280302398 lambda:  2454545454.5454545  intercept: 1755815677.8446949\n",
    "* All storms, log y: r2: 0.42657817853493596 lambda:  0.04727272727272728  intercept: 4.147931360310995\n",
    "* Storms w/ wind data, y: r2: 0.25467451211909387 lambda:  2181818181.818182  intercept: 3012415955.220771\n",
    "* Storms w/ wind data, log y: r2: 0.5901793227151957 lambda:  0.08181818181818182  intercept: 2.609131442053207"
   ]
  },
  {
   "cell_type": "code",
   "execution_count": 22,
   "metadata": {},
   "outputs": [
    {
     "name": "stdout",
     "output_type": "stream",
     "text": [
      "r2: 0.5901793227151957 lambda:  0.08181818181818182  intercept: 2.609131442053207\n"
     ]
    }
   ],
   "source": [
    "fit_lcv = LassoCV(\n",
    "            alphas = np.linspace(1e-2,1e-1, 100),\n",
    "            #alphas = np.linspace(1e-2, 1e3,100),\n",
    "              fit_intercept = [True,False],\n",
    "              max_iter = 1000,\n",
    "                cv = 10)\n",
    "\n",
    "fit_lcv.fit(X_trn_scl, y_trn)\n",
    "score_lcv = fit_lcv.score(X_trn_scl, y_trn)\n",
    "print('r2:', score_lcv, 'lambda: ',fit_lcv.alpha_, ' intercept:', fit_lcv.intercept_)"
   ]
  },
  {
   "cell_type": "code",
   "execution_count": 23,
   "metadata": {},
   "outputs": [
    {
     "data": {
      "text/plain": [
       "6.04988549874727"
      ]
     },
     "execution_count": 23,
     "metadata": {},
     "output_type": "execute_result"
    }
   ],
   "source": [
    "# Current LassoCV MSE\n",
    "np.mean(fit_lcv.mse_path_)"
   ]
  },
  {
   "cell_type": "markdown",
   "metadata": {},
   "source": [
    "### Champion Model Calculations\n",
    "Here, we'll get the best (from testing) model's performance on the holdout set and take a look at our parameter (beta) values when training on the whole set. \n",
    "\n",
    "Link to sklearn error evaluation metrics. [Link](http://scikit-learn.org/stable/modules/model_evaluation.html)\n",
    "\n",
    "The first block establishes the error metrics, the second block gets the error on the holdout set, and the third block trains the model on the entire data set."
   ]
  },
  {
   "cell_type": "code",
   "execution_count": 25,
   "metadata": {},
   "outputs": [],
   "source": [
    "def mse(y1, y2):\n",
    "    \"\"\"\n",
    "    Accepts two arrays: estimated and true values\n",
    "    Returns the mean squared error of the prediction.\n",
    "    \"\"\"\n",
    "    return np.mean((y1-y2)**2)\n",
    "\n",
    "def rmse(y1, y2):\n",
    "    \"\"\"\n",
    "    Accepts two arrays: estimated and true values\n",
    "    Returns the mean squared error of the prediction.\n",
    "    \"\"\"\n",
    "    return (mse(y1, y2)/len(y1))**0.5\n",
    "\n",
    "def r2(y_hat, y):\n",
    "    \"\"\"\n",
    "    Accepts two arrays: estimated and true values\n",
    "    Returns the mean squared error of the prediction.\n",
    "    \"\"\"\n",
    "    y_bar = np.mean(y)\n",
    "    ss_res = np.sum((y_hat-y)**2)\n",
    "    ss_tot = np.sum((y-y_bar)**2)\n",
    "    return 1.0 - (ss_res/ss_tot)\n",
    "    \n",
    "def print_metrics(y_pred,y_actual, metrics = [mse, rmse]):\n",
    "    \"\"\"\n",
    "    Wrapper function: accepts two arrays of y values\n",
    "    Returns: lst[num, num]: list of error values\n",
    "    \"\"\"\n",
    "    print('Model performance on holdout set:')\n",
    "    print('MSE:  ', mse(10**y_pred,10**y_actual))\n",
    "    print('RMSE: ', rmse(10**y_pred,10**y_actual))\n",
    "    print('R2:   ', r2(y_pred, y_actual))"
   ]
  },
  {
   "cell_type": "markdown",
   "metadata": {},
   "source": [
    "Best Performing Models:\n",
    "* All storms, y: Linear Regression (could also use LassoCV)\n",
    "  * Model performance on holdout set:\n",
    "  * MSE:   4.646294923413099e+19\n",
    "  * RMSE:  692097880.8236055\n",
    "  * R2:    0.20645149748487068  \n",
    "\n",
    "* All storms, logy: Linear Regression\n",
    " * Model performance on holdout set:\n",
    " * MSE:   9.443324876607267e+27\n",
    " * RMSE:  9866806206026.924\n",
    " * R2:    0.3957244792898038  \n",
    "\n",
    "* Storms w/ wind data, y: Linear Regression\n",
    "  * MSE:   2.0887221629438414e+20\n",
    "  * RMSE:  2130891915.190853\n",
    "  * R2:    0.403634171479184\n",
    "* Storms w/ wind data, log y: RidgeCV\n",
    "  * MSE:   6.785242370532622e+19\n",
    "  * RMSE:  1214517471.7747877\n",
    "  * R2:    0.6800187544837277"
   ]
  },
  {
   "cell_type": "code",
   "execution_count": 26,
   "metadata": {},
   "outputs": [
    {
     "name": "stdout",
     "output_type": "stream",
     "text": [
      "Model performance on holdout set:\n",
      "MSE:   6.785242370532622e+19\n",
      "RMSE:  1214517471.7747877\n",
      "R2:    0.6800187544837277\n"
     ]
    }
   ],
   "source": [
    "# Set desired data\n",
    "X_to_use = X_trn_scl\n",
    "y_to_use = y_trn\n",
    "X_to_holdout= X_holdout_scl\n",
    "y_to_holdout = y_holdout\n",
    "\n",
    "# Fit data, make predictions, get error values\n",
    "# champion_model = LassoCV(alphas = np.linspace(1e-6, 1e6,1000),\n",
    "#               fit_intercept= [True,False],\n",
    "#               max_iter = 10000,\n",
    "#                 cv = 10)\n",
    "\n",
    "champion_model = RidgeCV(alphas = [5.09],\n",
    "              fit_intercept= [True,False],\n",
    "              cv = 10,\n",
    "             scoring = 'neg_mean_squared_error')\n",
    "#champion_model = LinearRegression()\n",
    "\n",
    "champion_model.fit(X_to_use, y_to_use)\n",
    "y_holdout_predictions = champion_model.predict(X_to_holdout)\n",
    "print_metrics(y_holdout_predictions, y_to_holdout)\n",
    "\n",
    "#print(champion_model.score(X_to_holdout, y_to_holdout))"
   ]
  },
  {
   "cell_type": "code",
   "execution_count": 27,
   "metadata": {},
   "outputs": [
    {
     "name": "stdout",
     "output_type": "stream",
     "text": [
      "0.41676914570094176\n",
      "max_storm_cat -714436207.5284172\n",
      "deaths 5406083657.217589\n",
      "duration 382749867.6861561\n",
      "lat_delta -1262736903.413708\n",
      "lon_delta -36187787.27498712\n",
      "wind_v_max -3675219324.492042\n",
      "wind_v_med -1137541309.4046266\n",
      "p_min -9244591343.71644\n",
      "p_med -2228481946.399686\n",
      "34kt_r_max 306614229.01608276\n",
      "34kt_r_med -1416929900.1549888\n",
      "50kt_r_max -2754772033.8343506\n",
      "50kt_r_med -1514007388.0506463\n",
      "64kt_r_max 3112801908.2574987\n",
      "64kt_r_med 1583088541.1034439\n",
      "damage_imputed -281305069.09205616\n",
      "landfall 603798871.8825649\n"
     ]
    }
   ],
   "source": [
    "# Train champion model on full dataset to get the parameters\n",
    "X = X_scl\n",
    "#y = np.log10(hurricanes.iloc[:,0]+1)\n",
    "y = hurricanes.iloc[:,0]\n",
    "champion_model_all = champion_model\n",
    "\n",
    "champion_model_all.fit(X,y)\n",
    "champion_r2 = champion_model_all.score(X,y)\n",
    "parameters = champion_model_all.coef_\n",
    "print(champion_r2)\n",
    "\n",
    "for idx, val in enumerate(parameters):\n",
    "    print(hurricanes.iloc[:,1:].columns[idx], val)"
   ]
  },
  {
   "cell_type": "markdown",
   "metadata": {},
   "source": [
    "## Generalized Linear Models - Gamma Distribution  \n",
    "\n",
    "These models allegedly hold promise for capturing trends in right shifted data. I'll have to revisit this at a later date."
   ]
  },
  {
   "cell_type": "code",
   "execution_count": 404,
   "metadata": {},
   "outputs": [],
   "source": [
    "import statsmodels.api as sm"
   ]
  },
  {
   "cell_type": "code",
   "execution_count": 405,
   "metadata": {},
   "outputs": [
    {
     "name": "stderr",
     "output_type": "stream",
     "text": [
      "/anaconda3/lib/python3.7/site-packages/statsmodels/genmod/generalized_linear_model.py:302: DomainWarning: The inverse_power link function does not respect the domain of the Gamma family.\n",
      "  DomainWarning)\n",
      "/anaconda3/lib/python3.7/site-packages/statsmodels/genmod/families/links.py:300: RuntimeWarning: divide by zero encountered in power\n",
      "  return np.power(z, 1. / self.power)\n",
      "/anaconda3/lib/python3.7/site-packages/statsmodels/genmod/families/family.py:696: RuntimeWarning: invalid value encountered in true_divide\n",
      "  resid_dev = -np.log(endog_mu) + (endog - mu) / mu\n",
      "/anaconda3/lib/python3.7/site-packages/statsmodels/genmod/generalized_linear_model.py:754: RuntimeWarning: invalid value encountered in true_divide\n",
      "  return np.sum(resid / self.family.variance(mu)) / self.df_resid\n",
      "/anaconda3/lib/python3.7/site-packages/statsmodels/genmod/families/family.py:131: RuntimeWarning: invalid value encountered in multiply\n",
      "  return 1. / (self.link.deriv(mu)**2 * self.variance(mu))\n",
      "/anaconda3/lib/python3.7/site-packages/statsmodels/genmod/generalized_linear_model.py:1129: RuntimeWarning: invalid value encountered in multiply\n",
      "  - self._offset_exposure)\n"
     ]
    },
    {
     "ename": "LinAlgError",
     "evalue": "SVD did not converge in Linear Least Squares",
     "output_type": "error",
     "traceback": [
      "\u001b[0;31m---------------------------------------------------------------------------\u001b[0m",
      "\u001b[0;31mLinAlgError\u001b[0m                               Traceback (most recent call last)",
      "\u001b[0;32m<ipython-input-405-5fd43689d204>\u001b[0m in \u001b[0;36m<module>\u001b[0;34m()\u001b[0m\n\u001b[1;32m      1\u001b[0m \u001b[0mgamma_model\u001b[0m \u001b[0;34m=\u001b[0m \u001b[0msm\u001b[0m\u001b[0;34m.\u001b[0m\u001b[0mGLM\u001b[0m\u001b[0;34m(\u001b[0m\u001b[0my\u001b[0m\u001b[0;34m,\u001b[0m \u001b[0mX\u001b[0m\u001b[0;34m,\u001b[0m \u001b[0mfamily\u001b[0m\u001b[0;34m=\u001b[0m\u001b[0msm\u001b[0m\u001b[0;34m.\u001b[0m\u001b[0mfamilies\u001b[0m\u001b[0;34m.\u001b[0m\u001b[0mGamma\u001b[0m\u001b[0;34m(\u001b[0m\u001b[0;34m)\u001b[0m\u001b[0;34m)\u001b[0m\u001b[0;34m\u001b[0m\u001b[0m\n\u001b[0;32m----> 2\u001b[0;31m \u001b[0mgamma_results\u001b[0m \u001b[0;34m=\u001b[0m \u001b[0mgamma_model\u001b[0m\u001b[0;34m.\u001b[0m\u001b[0mfit\u001b[0m\u001b[0;34m(\u001b[0m\u001b[0;34m)\u001b[0m\u001b[0;34m\u001b[0m\u001b[0m\n\u001b[0m",
      "\u001b[0;32m/anaconda3/lib/python3.7/site-packages/statsmodels/genmod/generalized_linear_model.py\u001b[0m in \u001b[0;36mfit\u001b[0;34m(self, start_params, maxiter, method, tol, scale, cov_type, cov_kwds, use_t, full_output, disp, max_start_irls, **kwargs)\u001b[0m\n\u001b[1;32m   1010\u001b[0m             return self._fit_irls(start_params=start_params, maxiter=maxiter,\n\u001b[1;32m   1011\u001b[0m                                   \u001b[0mtol\u001b[0m\u001b[0;34m=\u001b[0m\u001b[0mtol\u001b[0m\u001b[0;34m,\u001b[0m \u001b[0mscale\u001b[0m\u001b[0;34m=\u001b[0m\u001b[0mscale\u001b[0m\u001b[0;34m,\u001b[0m \u001b[0mcov_type\u001b[0m\u001b[0;34m=\u001b[0m\u001b[0mcov_type\u001b[0m\u001b[0;34m,\u001b[0m\u001b[0;34m\u001b[0m\u001b[0m\n\u001b[0;32m-> 1012\u001b[0;31m                                   cov_kwds=cov_kwds, use_t=use_t, **kwargs)\n\u001b[0m\u001b[1;32m   1013\u001b[0m         \u001b[0;32melse\u001b[0m\u001b[0;34m:\u001b[0m\u001b[0;34m\u001b[0m\u001b[0m\n\u001b[1;32m   1014\u001b[0m             \u001b[0mself\u001b[0m\u001b[0;34m.\u001b[0m\u001b[0m_optim_hessian\u001b[0m \u001b[0;34m=\u001b[0m \u001b[0mkwargs\u001b[0m\u001b[0;34m.\u001b[0m\u001b[0mget\u001b[0m\u001b[0;34m(\u001b[0m\u001b[0;34m'optim_hessian'\u001b[0m\u001b[0;34m)\u001b[0m\u001b[0;34m\u001b[0m\u001b[0m\n",
      "\u001b[0;32m/anaconda3/lib/python3.7/site-packages/statsmodels/genmod/generalized_linear_model.py\u001b[0m in \u001b[0;36m_fit_irls\u001b[0;34m(self, start_params, maxiter, tol, scale, cov_type, cov_kwds, use_t, **kwargs)\u001b[0m\n\u001b[1;32m   1131\u001b[0m                     \u001b[0mwlsendog\u001b[0m\u001b[0;34m,\u001b[0m\u001b[0;34m\u001b[0m\u001b[0m\n\u001b[1;32m   1132\u001b[0m                     \u001b[0mwlsexog\u001b[0m\u001b[0;34m,\u001b[0m\u001b[0;34m\u001b[0m\u001b[0m\n\u001b[0;32m-> 1133\u001b[0;31m                     self.weights).fit(method=wls_method)\n\u001b[0m\u001b[1;32m   1134\u001b[0m             \u001b[0mlin_pred\u001b[0m \u001b[0;34m=\u001b[0m \u001b[0mnp\u001b[0m\u001b[0;34m.\u001b[0m\u001b[0mdot\u001b[0m\u001b[0;34m(\u001b[0m\u001b[0mself\u001b[0m\u001b[0;34m.\u001b[0m\u001b[0mexog\u001b[0m\u001b[0;34m,\u001b[0m \u001b[0mwls_results\u001b[0m\u001b[0;34m.\u001b[0m\u001b[0mparams\u001b[0m\u001b[0;34m)\u001b[0m\u001b[0;34m\u001b[0m\u001b[0m\n\u001b[1;32m   1135\u001b[0m             \u001b[0mlin_pred\u001b[0m \u001b[0;34m+=\u001b[0m \u001b[0mself\u001b[0m\u001b[0;34m.\u001b[0m\u001b[0m_offset_exposure\u001b[0m\u001b[0;34m\u001b[0m\u001b[0m\n",
      "\u001b[0;32m/anaconda3/lib/python3.7/site-packages/statsmodels/regression/_tools.py\u001b[0m in \u001b[0;36mfit\u001b[0;34m(self, method)\u001b[0m\n\u001b[1;32m     91\u001b[0m         \u001b[0;32melse\u001b[0m\u001b[0;34m:\u001b[0m\u001b[0;34m\u001b[0m\u001b[0m\n\u001b[1;32m     92\u001b[0m             params, _, _, _ = np.linalg.lstsq(self.wexog, self.wendog,\n\u001b[0;32m---> 93\u001b[0;31m                                               rcond=-1)\n\u001b[0m\u001b[1;32m     94\u001b[0m \u001b[0;34m\u001b[0m\u001b[0m\n\u001b[1;32m     95\u001b[0m         \u001b[0mfitted_values\u001b[0m \u001b[0;34m=\u001b[0m \u001b[0mself\u001b[0m\u001b[0;34m.\u001b[0m\u001b[0mexog\u001b[0m\u001b[0;34m.\u001b[0m\u001b[0mdot\u001b[0m\u001b[0;34m(\u001b[0m\u001b[0mparams\u001b[0m\u001b[0;34m)\u001b[0m\u001b[0;34m\u001b[0m\u001b[0m\n",
      "\u001b[0;32m/anaconda3/lib/python3.7/site-packages/numpy/linalg/linalg.py\u001b[0m in \u001b[0;36mlstsq\u001b[0;34m(a, b, rcond)\u001b[0m\n\u001b[1;32m   2154\u001b[0m     \u001b[0msignature\u001b[0m \u001b[0;34m=\u001b[0m \u001b[0;34m'DDd->Ddid'\u001b[0m \u001b[0;32mif\u001b[0m \u001b[0misComplexType\u001b[0m\u001b[0;34m(\u001b[0m\u001b[0mt\u001b[0m\u001b[0;34m)\u001b[0m \u001b[0;32melse\u001b[0m \u001b[0;34m'ddd->ddid'\u001b[0m\u001b[0;34m\u001b[0m\u001b[0m\n\u001b[1;32m   2155\u001b[0m     \u001b[0mextobj\u001b[0m \u001b[0;34m=\u001b[0m \u001b[0mget_linalg_error_extobj\u001b[0m\u001b[0;34m(\u001b[0m\u001b[0m_raise_linalgerror_lstsq\u001b[0m\u001b[0;34m)\u001b[0m\u001b[0;34m\u001b[0m\u001b[0m\n\u001b[0;32m-> 2156\u001b[0;31m     \u001b[0mx\u001b[0m\u001b[0;34m,\u001b[0m \u001b[0mresids\u001b[0m\u001b[0;34m,\u001b[0m \u001b[0mrank\u001b[0m\u001b[0;34m,\u001b[0m \u001b[0ms\u001b[0m \u001b[0;34m=\u001b[0m \u001b[0mgufunc\u001b[0m\u001b[0;34m(\u001b[0m\u001b[0ma\u001b[0m\u001b[0;34m,\u001b[0m \u001b[0mb\u001b[0m\u001b[0;34m,\u001b[0m \u001b[0mrcond\u001b[0m\u001b[0;34m,\u001b[0m \u001b[0msignature\u001b[0m\u001b[0;34m=\u001b[0m\u001b[0msignature\u001b[0m\u001b[0;34m,\u001b[0m \u001b[0mextobj\u001b[0m\u001b[0;34m=\u001b[0m\u001b[0mextobj\u001b[0m\u001b[0;34m)\u001b[0m\u001b[0;34m\u001b[0m\u001b[0m\n\u001b[0m\u001b[1;32m   2157\u001b[0m \u001b[0;34m\u001b[0m\u001b[0m\n\u001b[1;32m   2158\u001b[0m     \u001b[0;31m# remove the axis we added\u001b[0m\u001b[0;34m\u001b[0m\u001b[0;34m\u001b[0m\u001b[0m\n",
      "\u001b[0;32m/anaconda3/lib/python3.7/site-packages/numpy/linalg/linalg.py\u001b[0m in \u001b[0;36m_raise_linalgerror_lstsq\u001b[0;34m(err, flag)\u001b[0m\n\u001b[1;32m     99\u001b[0m \u001b[0;34m\u001b[0m\u001b[0m\n\u001b[1;32m    100\u001b[0m \u001b[0;32mdef\u001b[0m \u001b[0m_raise_linalgerror_lstsq\u001b[0m\u001b[0;34m(\u001b[0m\u001b[0merr\u001b[0m\u001b[0;34m,\u001b[0m \u001b[0mflag\u001b[0m\u001b[0;34m)\u001b[0m\u001b[0;34m:\u001b[0m\u001b[0;34m\u001b[0m\u001b[0m\n\u001b[0;32m--> 101\u001b[0;31m     \u001b[0;32mraise\u001b[0m \u001b[0mLinAlgError\u001b[0m\u001b[0;34m(\u001b[0m\u001b[0;34m\"SVD did not converge in Linear Least Squares\"\u001b[0m\u001b[0;34m)\u001b[0m\u001b[0;34m\u001b[0m\u001b[0m\n\u001b[0m\u001b[1;32m    102\u001b[0m \u001b[0;34m\u001b[0m\u001b[0m\n\u001b[1;32m    103\u001b[0m \u001b[0;32mdef\u001b[0m \u001b[0mget_linalg_error_extobj\u001b[0m\u001b[0;34m(\u001b[0m\u001b[0mcallback\u001b[0m\u001b[0;34m)\u001b[0m\u001b[0;34m:\u001b[0m\u001b[0;34m\u001b[0m\u001b[0m\n",
      "\u001b[0;31mLinAlgError\u001b[0m: SVD did not converge in Linear Least Squares"
     ]
    }
   ],
   "source": [
    "gamma_model = sm.GLM(y, X, family=sm.families.Gamma())\n",
    "gamma_results = gamma_model.fit()"
   ]
  },
  {
   "cell_type": "code",
   "execution_count": null,
   "metadata": {},
   "outputs": [],
   "source": []
  }
 ],
 "metadata": {
  "kernelspec": {
   "display_name": "Python 3",
   "language": "python",
   "name": "python3"
  },
  "language_info": {
   "codemirror_mode": {
    "name": "ipython",
    "version": 3
   },
   "file_extension": ".py",
   "mimetype": "text/x-python",
   "name": "python",
   "nbconvert_exporter": "python",
   "pygments_lexer": "ipython3",
   "version": "3.7.0"
  }
 },
 "nbformat": 4,
 "nbformat_minor": 2
}
