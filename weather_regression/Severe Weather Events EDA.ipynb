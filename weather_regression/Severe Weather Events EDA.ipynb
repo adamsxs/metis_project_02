{
 "cells": [
  {
   "cell_type": "markdown",
   "metadata": {},
   "source": [
    "# NOAA Severe Weather Events EDA\n",
    "\n",
    "Data download site. May be able to automate with selenium.\n",
    "[Storm Events Bulk Data Download](https://www.ncdc.noaa.gov/stormevents/ftp.jsp)\n",
    "\n",
    "Possible Scraping Targets\n",
    "[Billion Dollar Weather Events](https://www.ncdc.noaa.gov/billions/overview)\n",
    "\n",
    "[Wikipedia Costliest Atlantic Hurricanes](https://en.wikipedia.org/wiki/List_of_costliest_Atlantic_hurricanes)"
   ]
  },
  {
   "cell_type": "markdown",
   "metadata": {},
   "source": [
    "I've downloaded one year's worth of Severe Weather Events data. From here, I'll investigate how to isolate tropical storms, and then merge them with the data from the atlantic tropical storms database"
   ]
  },
  {
   "cell_type": "code",
   "execution_count": 1,
   "metadata": {},
   "outputs": [],
   "source": [
    "# Necessary Imports\n",
    "import pandas as pd\n",
    "import numpy as np\n",
    "import datetime as dt"
   ]
  },
  {
   "cell_type": "code",
   "execution_count": 2,
   "metadata": {},
   "outputs": [],
   "source": [
    "data = pd.read_csv('StormEvents_details-ftp_v1.0_d2018_c20180918.csv')"
   ]
  },
  {
   "cell_type": "code",
   "execution_count": 4,
   "metadata": {},
   "outputs": [
    {
     "data": {
      "text/plain": [
       "Index(['BEGIN_YEARMONTH', 'BEGIN_DAY', 'BEGIN_TIME', 'END_YEARMONTH',\n",
       "       'END_DAY', 'END_TIME', 'EPISODE_ID', 'EVENT_ID', 'STATE', 'STATE_FIPS',\n",
       "       'YEAR', 'MONTH_NAME', 'EVENT_TYPE', 'CZ_TYPE', 'CZ_FIPS', 'CZ_NAME',\n",
       "       'WFO', 'BEGIN_DATE_TIME', 'CZ_TIMEZONE', 'END_DATE_TIME',\n",
       "       'INJURIES_DIRECT', 'INJURIES_INDIRECT', 'DEATHS_DIRECT',\n",
       "       'DEATHS_INDIRECT', 'DAMAGE_PROPERTY', 'DAMAGE_CROPS', 'SOURCE',\n",
       "       'MAGNITUDE', 'MAGNITUDE_TYPE', 'FLOOD_CAUSE', 'CATEGORY', 'TOR_F_SCALE',\n",
       "       'TOR_LENGTH', 'TOR_WIDTH', 'TOR_OTHER_WFO', 'TOR_OTHER_CZ_STATE',\n",
       "       'TOR_OTHER_CZ_FIPS', 'TOR_OTHER_CZ_NAME', 'BEGIN_RANGE',\n",
       "       'BEGIN_AZIMUTH', 'BEGIN_LOCATION', 'END_RANGE', 'END_AZIMUTH',\n",
       "       'END_LOCATION', 'BEGIN_LAT', 'BEGIN_LON', 'END_LAT', 'END_LON',\n",
       "       'EPISODE_NARRATIVE', 'EVENT_NARRATIVE', 'DATA_SOURCE'],\n",
       "      dtype='object')"
      ]
     },
     "execution_count": 4,
     "metadata": {},
     "output_type": "execute_result"
    }
   ],
   "source": [
    "data.columns"
   ]
  },
  {
   "cell_type": "code",
   "execution_count": 5,
   "metadata": {},
   "outputs": [
    {
     "data": {
      "text/html": [
       "<div>\n",
       "<style scoped>\n",
       "    .dataframe tbody tr th:only-of-type {\n",
       "        vertical-align: middle;\n",
       "    }\n",
       "\n",
       "    .dataframe tbody tr th {\n",
       "        vertical-align: top;\n",
       "    }\n",
       "\n",
       "    .dataframe thead th {\n",
       "        text-align: right;\n",
       "    }\n",
       "</style>\n",
       "<table border=\"1\" class=\"dataframe\">\n",
       "  <thead>\n",
       "    <tr style=\"text-align: right;\">\n",
       "      <th></th>\n",
       "      <th>BEGIN_YEARMONTH</th>\n",
       "      <th>BEGIN_DAY</th>\n",
       "      <th>BEGIN_TIME</th>\n",
       "      <th>END_YEARMONTH</th>\n",
       "      <th>END_DAY</th>\n",
       "      <th>END_TIME</th>\n",
       "      <th>EPISODE_ID</th>\n",
       "      <th>EVENT_ID</th>\n",
       "      <th>STATE</th>\n",
       "      <th>STATE_FIPS</th>\n",
       "      <th>...</th>\n",
       "      <th>END_RANGE</th>\n",
       "      <th>END_AZIMUTH</th>\n",
       "      <th>END_LOCATION</th>\n",
       "      <th>BEGIN_LAT</th>\n",
       "      <th>BEGIN_LON</th>\n",
       "      <th>END_LAT</th>\n",
       "      <th>END_LON</th>\n",
       "      <th>EPISODE_NARRATIVE</th>\n",
       "      <th>EVENT_NARRATIVE</th>\n",
       "      <th>DATA_SOURCE</th>\n",
       "    </tr>\n",
       "  </thead>\n",
       "  <tbody>\n",
       "    <tr>\n",
       "      <th>0</th>\n",
       "      <td>201806</td>\n",
       "      <td>6</td>\n",
       "      <td>1810</td>\n",
       "      <td>201806</td>\n",
       "      <td>6</td>\n",
       "      <td>1810</td>\n",
       "      <td>125578</td>\n",
       "      <td>753161</td>\n",
       "      <td>NEBRASKA</td>\n",
       "      <td>31</td>\n",
       "      <td>...</td>\n",
       "      <td>36.0</td>\n",
       "      <td>N</td>\n",
       "      <td>OSHKOSH</td>\n",
       "      <td>41.9300</td>\n",
       "      <td>-102.2100</td>\n",
       "      <td>41.9300</td>\n",
       "      <td>-102.2100</td>\n",
       "      <td>Severe storms developed in the Nebraska Panhan...</td>\n",
       "      <td>Hail predominately penny size with some quarte...</td>\n",
       "      <td>CSV</td>\n",
       "    </tr>\n",
       "    <tr>\n",
       "      <th>1</th>\n",
       "      <td>201806</td>\n",
       "      <td>6</td>\n",
       "      <td>1741</td>\n",
       "      <td>201806</td>\n",
       "      <td>6</td>\n",
       "      <td>1741</td>\n",
       "      <td>125578</td>\n",
       "      <td>753160</td>\n",
       "      <td>NEBRASKA</td>\n",
       "      <td>31</td>\n",
       "      <td>...</td>\n",
       "      <td>1.0</td>\n",
       "      <td>NW</td>\n",
       "      <td>BINGHAM</td>\n",
       "      <td>42.0300</td>\n",
       "      <td>-102.1000</td>\n",
       "      <td>42.0300</td>\n",
       "      <td>-102.1000</td>\n",
       "      <td>Severe storms developed in the Nebraska Panhan...</td>\n",
       "      <td>Hail mainly quarter size with some half dollar...</td>\n",
       "      <td>CSV</td>\n",
       "    </tr>\n",
       "    <tr>\n",
       "      <th>2</th>\n",
       "      <td>201806</td>\n",
       "      <td>30</td>\n",
       "      <td>2330</td>\n",
       "      <td>201806</td>\n",
       "      <td>30</td>\n",
       "      <td>2332</td>\n",
       "      <td>125988</td>\n",
       "      <td>755273</td>\n",
       "      <td>VERMONT</td>\n",
       "      <td>50</td>\n",
       "      <td>...</td>\n",
       "      <td>3.0</td>\n",
       "      <td>WSW</td>\n",
       "      <td>WEST BERKSHIRE</td>\n",
       "      <td>44.9565</td>\n",
       "      <td>-72.8699</td>\n",
       "      <td>44.9565</td>\n",
       "      <td>-72.8699</td>\n",
       "      <td>Vermont and northern NY influenced by heat rid...</td>\n",
       "      <td>Numerous trees downed by thunderstorm winds.</td>\n",
       "      <td>CSV</td>\n",
       "    </tr>\n",
       "    <tr>\n",
       "      <th>3</th>\n",
       "      <td>201806</td>\n",
       "      <td>30</td>\n",
       "      <td>2345</td>\n",
       "      <td>201806</td>\n",
       "      <td>30</td>\n",
       "      <td>2345</td>\n",
       "      <td>125988</td>\n",
       "      <td>755929</td>\n",
       "      <td>VERMONT</td>\n",
       "      <td>50</td>\n",
       "      <td>...</td>\n",
       "      <td>0.0</td>\n",
       "      <td>NE</td>\n",
       "      <td>BELVIDERE JCT</td>\n",
       "      <td>44.7316</td>\n",
       "      <td>-72.7474</td>\n",
       "      <td>44.7316</td>\n",
       "      <td>-72.7474</td>\n",
       "      <td>Vermont and northern NY influenced by heat rid...</td>\n",
       "      <td>At least half dozen trees downed or snapped al...</td>\n",
       "      <td>CSV</td>\n",
       "    </tr>\n",
       "    <tr>\n",
       "      <th>4</th>\n",
       "      <td>201806</td>\n",
       "      <td>6</td>\n",
       "      <td>1824</td>\n",
       "      <td>201806</td>\n",
       "      <td>6</td>\n",
       "      <td>1824</td>\n",
       "      <td>125578</td>\n",
       "      <td>753163</td>\n",
       "      <td>NEBRASKA</td>\n",
       "      <td>31</td>\n",
       "      <td>...</td>\n",
       "      <td>5.0</td>\n",
       "      <td>NW</td>\n",
       "      <td>GRANT</td>\n",
       "      <td>40.9000</td>\n",
       "      <td>-101.7900</td>\n",
       "      <td>40.9000</td>\n",
       "      <td>-101.7900</td>\n",
       "      <td>Severe storms developed in the Nebraska Panhan...</td>\n",
       "      <td>Tornado briefly touched down in a field 5 mile...</td>\n",
       "      <td>CSV</td>\n",
       "    </tr>\n",
       "  </tbody>\n",
       "</table>\n",
       "<p>5 rows × 51 columns</p>\n",
       "</div>"
      ],
      "text/plain": [
       "   BEGIN_YEARMONTH  BEGIN_DAY  BEGIN_TIME  END_YEARMONTH  END_DAY  END_TIME  \\\n",
       "0           201806          6        1810         201806        6      1810   \n",
       "1           201806          6        1741         201806        6      1741   \n",
       "2           201806         30        2330         201806       30      2332   \n",
       "3           201806         30        2345         201806       30      2345   \n",
       "4           201806          6        1824         201806        6      1824   \n",
       "\n",
       "   EPISODE_ID  EVENT_ID     STATE  STATE_FIPS     ...      END_RANGE  \\\n",
       "0      125578    753161  NEBRASKA          31     ...           36.0   \n",
       "1      125578    753160  NEBRASKA          31     ...            1.0   \n",
       "2      125988    755273   VERMONT          50     ...            3.0   \n",
       "3      125988    755929   VERMONT          50     ...            0.0   \n",
       "4      125578    753163  NEBRASKA          31     ...            5.0   \n",
       "\n",
       "  END_AZIMUTH    END_LOCATION BEGIN_LAT  BEGIN_LON  END_LAT   END_LON  \\\n",
       "0           N         OSHKOSH   41.9300  -102.2100  41.9300 -102.2100   \n",
       "1          NW         BINGHAM   42.0300  -102.1000  42.0300 -102.1000   \n",
       "2         WSW  WEST BERKSHIRE   44.9565   -72.8699  44.9565  -72.8699   \n",
       "3          NE   BELVIDERE JCT   44.7316   -72.7474  44.7316  -72.7474   \n",
       "4          NW           GRANT   40.9000  -101.7900  40.9000 -101.7900   \n",
       "\n",
       "                                   EPISODE_NARRATIVE  \\\n",
       "0  Severe storms developed in the Nebraska Panhan...   \n",
       "1  Severe storms developed in the Nebraska Panhan...   \n",
       "2  Vermont and northern NY influenced by heat rid...   \n",
       "3  Vermont and northern NY influenced by heat rid...   \n",
       "4  Severe storms developed in the Nebraska Panhan...   \n",
       "\n",
       "                                     EVENT_NARRATIVE DATA_SOURCE  \n",
       "0  Hail predominately penny size with some quarte...         CSV  \n",
       "1  Hail mainly quarter size with some half dollar...         CSV  \n",
       "2       Numerous trees downed by thunderstorm winds.         CSV  \n",
       "3  At least half dozen trees downed or snapped al...         CSV  \n",
       "4  Tornado briefly touched down in a field 5 mile...         CSV  \n",
       "\n",
       "[5 rows x 51 columns]"
      ]
     },
     "execution_count": 5,
     "metadata": {},
     "output_type": "execute_result"
    }
   ],
   "source": [
    "# Search for subtropical storm alberto on may 25\n",
    "data.head()"
   ]
  },
  {
   "cell_type": "code",
   "execution_count": 9,
   "metadata": {},
   "outputs": [
    {
     "name": "stdout",
     "output_type": "stream",
     "text": [
      "A 31 year old male drowned, likely due to rip currents, near the Tropic Winds Condos in the 17000 block of Front Beach Road in the Panama City Beach area.  He was face down in the water when friends located him.  Single red flags were flying.||In addition, a 28 year old male died near the 700 block of Scenic Gulf Drive along the Walton county coast.  The man was swimming in the evening after lifeguards had left the beach.  Red flags were flying.\n",
      "A 31 year old male drowned, likely due to rip currents, near the Tropic Winds Condos in the 17000 block of Front Beach Road in the Panama City Beach area.  He was face down in the water when friends located him.  Single red flags were flying.||In addition, a 28 year old male died near the 700 block of Scenic Gulf Drive along the Walton county coast.  The man was swimming in the evening after lifeguards had left the beach.  Red flags were flying.\n",
      "Afternoon showers and storms developed along the sea breezes along each coast. The Gulf coast sea breeze produced a shower that developed a funnel cloud over Naples.\n"
     ]
    }
   ],
   "source": [
    "X = data[(data.BEGIN_YEARMONTH == 201805)&(data.BEGIN_DAY == 25)&(data.STATE == 'FLORIDA')].EPISODE_NARRATIVE\n",
    "for thing in X:\n",
    "    print(thing)"
   ]
  },
  {
   "cell_type": "code",
   "execution_count": null,
   "metadata": {},
   "outputs": [],
   "source": []
  }
 ],
 "metadata": {
  "kernelspec": {
   "display_name": "Python 3",
   "language": "python",
   "name": "python3"
  },
  "language_info": {
   "codemirror_mode": {
    "name": "ipython",
    "version": 3
   },
   "file_extension": ".py",
   "mimetype": "text/x-python",
   "name": "python",
   "nbconvert_exporter": "python",
   "pygments_lexer": "ipython3",
   "version": "3.7.0"
  },
  "toc": {
   "base_numbering": 1,
   "nav_menu": {},
   "number_sections": true,
   "sideBar": true,
   "skip_h1_title": false,
   "title_cell": "Table of Contents",
   "title_sidebar": "Contents",
   "toc_cell": false,
   "toc_position": {},
   "toc_section_display": true,
   "toc_window_display": false
  },
  "varInspector": {
   "cols": {
    "lenName": 16,
    "lenType": 16,
    "lenVar": 40
   },
   "kernels_config": {
    "python": {
     "delete_cmd_postfix": "",
     "delete_cmd_prefix": "del ",
     "library": "var_list.py",
     "varRefreshCmd": "print(var_dic_list())"
    },
    "r": {
     "delete_cmd_postfix": ") ",
     "delete_cmd_prefix": "rm(",
     "library": "var_list.r",
     "varRefreshCmd": "cat(var_dic_list()) "
    }
   },
   "types_to_exclude": [
    "module",
    "function",
    "builtin_function_or_method",
    "instance",
    "_Feature"
   ],
   "window_display": false
  }
 },
 "nbformat": 4,
 "nbformat_minor": 2
}
